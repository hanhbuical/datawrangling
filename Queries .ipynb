{
 "cells": [
  {
   "cell_type": "code",
   "execution_count": 1,
   "metadata": {
    "collapsed": true
   },
   "outputs": [],
   "source": [
    "import os\n",
    "import sqlite3"
   ]
  },
  {
   "cell_type": "code",
   "execution_count": 2,
   "metadata": {
    "collapsed": false
   },
   "outputs": [
    {
     "name": "stdout",
     "output_type": "stream",
     "text": [
      "hcm.db  = 43.4 MB\n",
      "hcm.osm  = 84.1 MB\n",
      "sample.osm  = 1.2 MB\n",
      "nodes.csv  = 32.0 MB\n",
      "nodes_tags.csv  = 3.6 MB\n",
      "ways.csv  = 2.7 MB\n",
      "ways_nodes.csv  = 10.6 MB\n",
      "ways_tags.csv  = 3.4 MB\n"
     ]
    }
   ],
   "source": [
    "folder = 'Downloads/data_wrangling'\n",
    "folder_size = 0\n",
    "for (path, dirs, files) in os.walk(folder):\n",
    "    for file in files:\n",
    "        if str(file[0]) != '.':\n",
    "            filename = os.path.join(path, file)\n",
    "            folder_size = os.path.getsize(filename)\n",
    "            print(file, \" = %0.1f MB\" % (folder_size/(1024*1024.0)))"
   ]
  },
  {
   "cell_type": "code",
   "execution_count": 5,
   "metadata": {
    "collapsed": false
   },
   "outputs": [],
   "source": [
    "db='Downloads/data_wrangling/hcm.db'"
   ]
  },
  {
   "cell_type": "code",
   "execution_count": 6,
   "metadata": {
    "collapsed": false
   },
   "outputs": [],
   "source": [
    "con = sqlite3.connect(db)\n",
    "cur = con.cursor()"
   ]
  },
  {
   "cell_type": "code",
   "execution_count": 7,
   "metadata": {
    "collapsed": false
   },
   "outputs": [
    {
     "data": {
      "text/plain": [
       "404079"
      ]
     },
     "execution_count": 7,
     "metadata": {},
     "output_type": "execute_result"
    }
   ],
   "source": [
    "node = cur.execute('SELECT COUNT(*) FROM nodes')\n",
    "node.fetchone()[0]"
   ]
  },
  {
   "cell_type": "code",
   "execution_count": 6,
   "metadata": {
    "collapsed": false
   },
   "outputs": [
    {
     "data": {
      "text/plain": [
       "47878"
      ]
     },
     "execution_count": 6,
     "metadata": {},
     "output_type": "execute_result"
    }
   ],
   "source": [
    "ways = cur.execute('SELECT COUNT(*) FROM ways')\n",
    "ways.fetchone()[0]"
   ]
  },
  {
   "cell_type": "code",
   "execution_count": 7,
   "metadata": {
    "collapsed": false
   },
   "outputs": [
    {
     "data": {
      "text/plain": [
       "1596"
      ]
     },
     "execution_count": 7,
     "metadata": {},
     "output_type": "execute_result"
    }
   ],
   "source": [
    "unique_user = cur.execute('SELECT COUNT(DISTINCT(sq.uid)) \\\n",
    "            FROM (SELECT uid FROM nodes UNION ALL SELECT uid FROM ways) as sq')\n",
    "unique_user.fetchone()[0]"
   ]
  },
  {
   "cell_type": "code",
   "execution_count": 8,
   "metadata": {
    "collapsed": false
   },
   "outputs": [
    {
     "data": {
      "text/plain": [
       "[('TuanIfan', 126416),\n",
       " ('Ivan Garcia', 74020),\n",
       " ('Dymo12', 38772),\n",
       " ('QuangDBui@TMA', 27482),\n",
       " ('KimChinhTri', 23062),\n",
       " ('528491', 18767),\n",
       " ('guenter', 10013),\n",
       " ('tandung', 9106),\n",
       " ('mrjoba', 7725),\n",
       " ('dotnam', 6090)]"
      ]
     },
     "execution_count": 8,
     "metadata": {},
     "output_type": "execute_result"
    }
   ],
   "source": [
    "top_10_active = cur.execute('SELECT sq.user, COUNT(*) as num \\\n",
    "            FROM  (SELECT user FROM nodes UNION ALL SELECT user FROM ways) as sq\\\n",
    "            GROUP BY sq.user \\\n",
    "            ORDER BY num DESC \\\n",
    "            LIMIT 10')\n",
    "top_10_active.fetchall()"
   ]
  },
  {
   "cell_type": "code",
   "execution_count": 9,
   "metadata": {
    "collapsed": false
   },
   "outputs": [
    {
     "data": {
      "text/plain": [
       "713"
      ]
     },
     "execution_count": 9,
     "metadata": {},
     "output_type": "execute_result"
    }
   ],
   "source": [
    "user_once_only = cur.execute('SELECT count(*)\\\n",
    "            FROM (SELECT sq.user, COUNT(*) as num \\\n",
    "            FROM  (SELECT user FROM nodes UNION ALL SELECT user FROM ways) as sq\\\n",
    "            GROUP BY sq.user \\\n",
    "            HAVING num = 1) as sq2')\n",
    "user_once_only.fetchone()[0]"
   ]
  },
  {
   "cell_type": "code",
   "execution_count": 10,
   "metadata": {
    "collapsed": false
   },
   "outputs": [
    {
     "data": {
      "text/plain": [
       "[('0839307627',),\n",
       " ('+84 8 39991612 ',),\n",
       " ('8222373',),\n",
       " ('8368761',),\n",
       " ('8361679',),\n",
       " ('8365073',),\n",
       " ('39206472',),\n",
       " ('38365868',),\n",
       " ('38369123',),\n",
       " ('38379589',),\n",
       " ('+84 838369268 / +84 838361935',),\n",
       " ('38375582',),\n",
       " ('+84838370447',),\n",
       " ('3829 2772',),\n",
       " ('+084 0917 685 464',),\n",
       " ('+8438231130',),\n",
       " ('01252026241',),\n",
       " ('+84 8 38272372',),\n",
       " ('+84838389523',),\n",
       " ('84839105689',)]"
      ]
     },
     "execution_count": 10,
     "metadata": {},
     "output_type": "execute_result"
    }
   ],
   "source": [
    "#Additional improvement, phone number inconsistency\n",
    "phone=cur.execute('SELECT sq.value\\\n",
    "            FROM (SELECT value FROM nodes_tags\\\n",
    "            WHERE key=\"phone\"\\\n",
    "            UNION ALL\\\n",
    "            SELECT value FROM ways_tags \\\n",
    "            WHERE key=\"phone\") as sq\\\n",
    "            LIMIT 20')\n",
    "phone.fetchall()"
   ]
  },
  {
   "cell_type": "code",
   "execution_count": 8,
   "metadata": {
    "collapsed": false
   },
   "outputs": [],
   "source": [
    "con.close()"
   ]
  },
  {
   "cell_type": "code",
   "execution_count": null,
   "metadata": {
    "collapsed": true
   },
   "outputs": [],
   "source": []
  }
 ],
 "metadata": {
  "kernelspec": {
   "display_name": "Python 3",
   "language": "python",
   "name": "python3"
  },
  "language_info": {
   "codemirror_mode": {
    "name": "ipython",
    "version": 3
   },
   "file_extension": ".py",
   "mimetype": "text/x-python",
   "name": "python",
   "nbconvert_exporter": "python",
   "pygments_lexer": "ipython3",
   "version": "3.6.0"
  }
 },
 "nbformat": 4,
 "nbformat_minor": 2
}
